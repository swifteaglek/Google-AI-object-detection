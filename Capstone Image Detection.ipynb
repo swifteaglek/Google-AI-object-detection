{
 "cells": [
  {
   "cell_type": "markdown",
   "metadata": {},
   "source": [
    "### Data Pre-processing of the google-ai-open-images-object-detection-track "
   ]
  },
  {
   "cell_type": "code",
   "execution_count": 1,
   "metadata": {},
   "outputs": [],
   "source": [
    "import pandas as pd\n",
    "import numpy as np\n",
    "import statsmodels.api as sm\n",
    "import scipy.stats as st\n",
    "import matplotlib.pyplot as plt\n",
    "import seaborn as sn\n",
    "from sklearn.svm import SVC\n",
    "from sklearn.metrics import confusion_matrix\n",
    "import matplotlib.mlab as mlab"
   ]
  },
  {
   "cell_type": "markdown",
   "metadata": {},
   "source": [
    "### Importing the Data using pandas "
   ]
  },
  {
   "cell_type": "code",
   "execution_count": 2,
   "metadata": {},
   "outputs": [],
   "source": [
    "capimage = pd.read_csv(\"D:\\SpringBoard\\Project\\Capstone\\google-ai-open-images-object-detection-track\\sample_submission.csv\", header = None)"
   ]
  },
  {
   "cell_type": "markdown",
   "metadata": {},
   "source": [
    "### print out the first 5 dataset"
   ]
  },
  {
   "cell_type": "code",
   "execution_count": 3,
   "metadata": {},
   "outputs": [
    {
     "name": "stdout",
     "output_type": "stream",
     "text": [
      "                  0                                                  1\n",
      "0           ImageId                                   PredictionString\n",
      "1  b5d912e06f74e948  /m/05s2s 0.9 0.46 0.08 0.93 0.5 /m/0c9ph5 0.5 ...\n",
      "2  be137cf6bb0b62d5  /m/05s2s 0.9 0.46 0.08 0.93 0.5 /m/0c9ph5 0.5 ...\n",
      "3  8d65ca08cb5ce8e8  /m/05s2s 0.9 0.46 0.08 0.93 0.5 /m/0c9ph5 0.5 ...\n",
      "4  4d3ad1e52ad8c065  /m/05s2s 0.9 0.46 0.08 0.93 0.5 /m/0c9ph5 0.5 ...\n"
     ]
    }
   ],
   "source": [
    "print(capimage.head(5))"
   ]
  },
  {
   "cell_type": "markdown",
   "metadata": {},
   "source": [
    "### checking the shape of the dataset"
   ]
  },
  {
   "cell_type": "code",
   "execution_count": 4,
   "metadata": {},
   "outputs": [
    {
     "name": "stdout",
     "output_type": "stream",
     "text": [
      "(100000, 2)\n"
     ]
    }
   ],
   "source": [
    "print(capimage.shape)"
   ]
  },
  {
   "cell_type": "markdown",
   "metadata": {},
   "source": [
    "### Print Descriptive Statistics for Dataset"
   ]
  },
  {
   "cell_type": "code",
   "execution_count": 5,
   "metadata": {},
   "outputs": [
    {
     "name": "stdout",
     "output_type": "stream",
     "text": [
      "<bound method NDFrame.describe of                       0                                                  1\n",
      "0               ImageId                                   PredictionString\n",
      "1      b5d912e06f74e948  /m/05s2s 0.9 0.46 0.08 0.93 0.5 /m/0c9ph5 0.5 ...\n",
      "2      be137cf6bb0b62d5  /m/05s2s 0.9 0.46 0.08 0.93 0.5 /m/0c9ph5 0.5 ...\n",
      "3      8d65ca08cb5ce8e8  /m/05s2s 0.9 0.46 0.08 0.93 0.5 /m/0c9ph5 0.5 ...\n",
      "4      4d3ad1e52ad8c065  /m/05s2s 0.9 0.46 0.08 0.93 0.5 /m/0c9ph5 0.5 ...\n",
      "...                 ...                                                ...\n",
      "99995  ed0c79184f3915a5  /m/05s2s 0.9 0.46 0.08 0.93 0.5 /m/0c9ph5 0.5 ...\n",
      "99996  d7395df8121658cf  /m/05s2s 0.9 0.46 0.08 0.93 0.5 /m/0c9ph5 0.5 ...\n",
      "99997  17efc23faebe466b  /m/05s2s 0.9 0.46 0.08 0.93 0.5 /m/0c9ph5 0.5 ...\n",
      "99998  0dbf51f4a49d5d6d  /m/05s2s 0.9 0.46 0.08 0.93 0.5 /m/0c9ph5 0.5 ...\n",
      "99999  87367a3130411747  /m/05s2s 0.9 0.46 0.08 0.93 0.5 /m/0c9ph5 0.5 ...\n",
      "\n",
      "[100000 rows x 2 columns]>\n"
     ]
    }
   ],
   "source": [
    "print(capimage.describe)"
   ]
  },
  {
   "cell_type": "markdown",
   "metadata": {},
   "source": [
    "### How many images in the dataset"
   ]
  },
  {
   "cell_type": "code",
   "execution_count": 6,
   "metadata": {},
   "outputs": [
    {
     "data": {
      "text/plain": [
       "100000"
      ]
     },
     "execution_count": 6,
     "metadata": {},
     "output_type": "execute_result"
    }
   ],
   "source": [
    "len(capimage)"
   ]
  },
  {
   "cell_type": "markdown",
   "metadata": {},
   "source": [
    "### image type"
   ]
  },
  {
   "cell_type": "code",
   "execution_count": 7,
   "metadata": {},
   "outputs": [
    {
     "data": {
      "text/plain": [
       "pandas.core.frame.DataFrame"
      ]
     },
     "execution_count": 7,
     "metadata": {},
     "output_type": "execute_result"
    }
   ],
   "source": [
    "type(capimage)"
   ]
  },
  {
   "cell_type": "code",
   "execution_count": null,
   "metadata": {},
   "outputs": [],
   "source": []
  },
  {
   "cell_type": "code",
   "execution_count": null,
   "metadata": {},
   "outputs": [],
   "source": []
  },
  {
   "cell_type": "code",
   "execution_count": null,
   "metadata": {},
   "outputs": [],
   "source": []
  },
  {
   "cell_type": "code",
   "execution_count": null,
   "metadata": {},
   "outputs": [],
   "source": []
  },
  {
   "cell_type": "code",
   "execution_count": null,
   "metadata": {},
   "outputs": [],
   "source": []
  },
  {
   "cell_type": "code",
   "execution_count": null,
   "metadata": {},
   "outputs": [],
   "source": []
  },
  {
   "cell_type": "code",
   "execution_count": null,
   "metadata": {},
   "outputs": [],
   "source": []
  }
 ],
 "metadata": {
  "kernelspec": {
   "display_name": "Python 3",
   "language": "python",
   "name": "python3"
  },
  "language_info": {
   "codemirror_mode": {
    "name": "ipython",
    "version": 3
   },
   "file_extension": ".py",
   "mimetype": "text/x-python",
   "name": "python",
   "nbconvert_exporter": "python",
   "pygments_lexer": "ipython3",
   "version": "3.7.3"
  }
 },
 "nbformat": 4,
 "nbformat_minor": 2
}
